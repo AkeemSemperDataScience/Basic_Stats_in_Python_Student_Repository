{
 "cells": [
  {
   "attachments": {},
   "cell_type": "markdown",
   "metadata": {},
   "source": [
    "# Exploring Property Data\n",
    "\n",
    "><b>Originally Created by Akeem Semper: [https://github.com/AkeemSemper/Basic_Stats_in_Python_Student_Workbooks](https://github.com/AkeemSemper/Basic_Stats_in_Python_Student_Workbooks \"Original Repository\")</b>\n",
    "\n",
    "Revisit the Property Assessment data. We are looking for some info on home prices - we want to narrow our search to a specific subset of homes.\n",
    "\n",
    "Our hypothesis is that over time, prices in Edmonton will rise. If we can invest in a segment of the market that is undervalued, that segment will rise faster as it \"catches up\" with the rest. We don't know if this hypothesis is true in reality - in the future we could do some predictive modelling to try to test it. We are going with a HIPPO opinion - low valued segments will rise, so that is what we will look for in our data. \n",
    "\n",
    "We also are smaller investors. We don't have the up front cash to purchase big money properties and \"swing for the fences\", we would very much prefer to target properties that are relatively less expensive, to allow us to purchase more and diversify the risk. \n",
    "\n",
    "So, our goal is to identify which segments of real estate have values that are suitable for investment, based on our assumptions.  \n",
    "(Note: There are differnt potential answers - I find a set of homes that may look good based on our criteria, there's probably others, it is not a yes/no answer)\n",
    "\n",
    "<b>\n",
    "Use: Attempt to break down and examine the data to find some property groups that appear to be solid investments, supported by the data you have. You can follow my example, or go your own way. There's probably many potential groups that make sense. The solution version has everything I did. Feel free to add more code blocks. I chopped them down so there are not a tonne of empty ones. As well, the exploration is somewhat open ended. If you want to closely follow along my steps, that's fine. You could do things differently, or in a somewhat different order, and that would be all good too. If you feel very comfortable doing things on your own, it is \"better\" practice to follow less closely. </b>"
   ]
  },
  {
   "cell_type": "code",
   "execution_count": 1,
   "metadata": {},
   "outputs": [],
   "source": [
    "import thinkplot\n",
    "import thinkstats2\n",
    "import pandas as pd\n",
    "import numpy as np\n",
    "\n",
    "#These 3 things allow for some prettier graphs, using a different visualization package - seaborn.\n",
    "#This isn't required, we'll start using this a little bit as we go. Seaborn's big selling point\n",
    "#is that it allows us to create many common graphs, that are very nice, relatively easily\n",
    "#The third line just makes the default plot size larger, you can change the numbers if you want. \n",
    "import matplotlib.pyplot as plt\n",
    "import seaborn as sns\n",
    "plt.rcParams[\"figure.figsize\"] = (20,5)"
   ]
  },
  {
   "cell_type": "markdown",
   "metadata": {},
   "source": [
    "#### Fancy Graphing - Seaborn\n",
    "\n",
    "Example of a seaborn distpolot - a histogram with a PDF overlayed on it. I use it in the solution.\n",
    "In this example, the data is the first argument, the other two arguments are sets of \"customizations\" for the histogram and PDF (KDE) part.\n",
    "\n",
    "You can use this, if you want, just change the data, and the labels and it should be usable for everything here.\n",
    "There are more options and examples detailed here: https://seaborn.pydata.org/generated/seaborn.distplot.html\n",
    "\n",
    "Generally, it doesn't really matter what tool you use to create visualizations. The thinkstats/thinkplot stuff fits in nicely with what is in the book and is pretty useful and easy to use. Later on, into the machine learning stuff we'll do all of our charting and plotting with Seaborn (or at least I will, you can use something else if you're adventerous), for now it is your choice unless specified. "
   ]
  },
  {
   "cell_type": "code",
   "execution_count": 2,
   "metadata": {},
   "outputs": [],
   "source": [
    "#sns.distplot(dtGlen[\"Assessed Value\"], hist_kws={\"label\":\"Condos\"}, kde_kws={\"label\":\"Condo PDF\"},)\n",
    "#sns.distplot(glen[\"Assessed Value\"], hist_kws={\"label\":\"Glenora Garage\"}, kde_kws={\"label\":\"Glenora Garage PDF\"},)\n",
    "#plt.show()"
   ]
  },
  {
   "cell_type": "markdown",
   "metadata": {},
   "source": [
    "This function does the same work as the one we made last time - it does 6 graphs all in bulk: Hist, PMF, CDF, PDF, normal and lognormal prob plots. \n",
    "\n",
    "One addition is the rnd=0 thing. That's how we can make one of those optional paramaters, if you don't provide anything there, the hist will have no rounding; if you provide a number, the histogram will round to that many digits. "
   ]
  },
  {
   "cell_type": "code",
   "execution_count": 3,
   "metadata": {},
   "outputs": [],
   "source": [
    "# Graphing Helper Function\n",
    "def bigGraph(df_in, columnName, rnd=0):\n",
    "    data = pd.Series(df_in[columnName])\n",
    "    hist = thinkstats2.Hist(round(data, rnd))\n",
    "    pmf = thinkstats2.Pmf(data)\n",
    "    cdf = thinkstats2.Cdf(data)\n",
    "    thinkplot.PrePlot(6, rows =2, cols=3)\n",
    "    thinkplot.Hist(hist)\n",
    "    thinkplot.SubPlot(2)\n",
    "    thinkplot.Pmf(pmf)\n",
    "    thinkplot.SubPlot(3)\n",
    "    thinkplot.Cdf(cdf)\n",
    "    thinkplot.SubPlot(4)\n",
    "    thinkstats2.NormalProbabilityPlot(data)\n",
    "    thinkplot.SubPlot(5)\n",
    "    thinkstats2.NormalProbabilityPlot(np.log(data))\n",
    "    thinkplot.SubPlot(6)\n",
    "    pdf = thinkstats2.EstimatedPdf(data)\n",
    "    thinkplot.Pdf(pdf)\n",
    "    thinkplot.Config()\n",
    "    return"
   ]
  },
  {
   "cell_type": "code",
   "execution_count": 4,
   "metadata": {},
   "outputs": [],
   "source": [
    "#Load data - I used the odd varaible name because I want the final name to be \"df\" after I do any filtering, so it is easier. \n",
    "df_init = pd.read_csv(\"data/Assessments.csv\")"
   ]
  },
  {
   "cell_type": "markdown",
   "metadata": {},
   "source": [
    "## START HERE!\n",
    "\n",
    "We can look at our data, and try to figure out a strategy to stack that paper. "
   ]
  },
  {
   "cell_type": "markdown",
   "metadata": {},
   "source": [
    "### Part 1: Load and Explore Data\n",
    "\n",
    "Preview data and make sure the data present is what we want/need. "
   ]
  },
  {
   "cell_type": "code",
   "execution_count": 5,
   "metadata": {},
   "outputs": [
    {
     "data": {
      "text/html": [
       "<div>\n",
       "<style scoped>\n",
       "    .dataframe tbody tr th:only-of-type {\n",
       "        vertical-align: middle;\n",
       "    }\n",
       "\n",
       "    .dataframe tbody tr th {\n",
       "        vertical-align: top;\n",
       "    }\n",
       "\n",
       "    .dataframe thead th {\n",
       "        text-align: right;\n",
       "    }\n",
       "</style>\n",
       "<table border=\"1\" class=\"dataframe\">\n",
       "  <thead>\n",
       "    <tr style=\"text-align: right;\">\n",
       "      <th></th>\n",
       "      <th>Account Number</th>\n",
       "      <th>Suite</th>\n",
       "      <th>House Number</th>\n",
       "      <th>Street Name</th>\n",
       "      <th>Garage</th>\n",
       "      <th>Neighbourhood ID</th>\n",
       "      <th>Neighbourhood</th>\n",
       "      <th>Ward</th>\n",
       "      <th>Assessed Value</th>\n",
       "      <th>Latitude</th>\n",
       "      <th>Longitude</th>\n",
       "    </tr>\n",
       "  </thead>\n",
       "  <tbody>\n",
       "    <tr>\n",
       "      <th>0</th>\n",
       "      <td>1066158</td>\n",
       "      <td>NaN</td>\n",
       "      <td>14904.0</td>\n",
       "      <td>167 AVENUE NW</td>\n",
       "      <td>N</td>\n",
       "      <td>NaN</td>\n",
       "      <td>NaN</td>\n",
       "      <td>NaN</td>\n",
       "      <td>86000</td>\n",
       "      <td>53.630497</td>\n",
       "      <td>-113.580474</td>\n",
       "    </tr>\n",
       "    <tr>\n",
       "      <th>1</th>\n",
       "      <td>10508233</td>\n",
       "      <td>NaN</td>\n",
       "      <td>16340.0</td>\n",
       "      <td>MARK MESSIER TRAIL NW</td>\n",
       "      <td>N</td>\n",
       "      <td>NaN</td>\n",
       "      <td>NaN</td>\n",
       "      <td>NaN</td>\n",
       "      <td>45000</td>\n",
       "      <td>53.617335</td>\n",
       "      <td>-113.605690</td>\n",
       "    </tr>\n",
       "    <tr>\n",
       "      <th>2</th>\n",
       "      <td>1194398</td>\n",
       "      <td>NaN</td>\n",
       "      <td>15617.0</td>\n",
       "      <td>83 STREET NW</td>\n",
       "      <td>N</td>\n",
       "      <td>2050.0</td>\n",
       "      <td>BELLE RIVE</td>\n",
       "      <td>Ward 3</td>\n",
       "      <td>285000</td>\n",
       "      <td>53.617007</td>\n",
       "      <td>-113.467976</td>\n",
       "    </tr>\n",
       "    <tr>\n",
       "      <th>3</th>\n",
       "      <td>1034214</td>\n",
       "      <td>NaN</td>\n",
       "      <td>10661.0</td>\n",
       "      <td>161 AVENUE NW</td>\n",
       "      <td>Y</td>\n",
       "      <td>3040.0</td>\n",
       "      <td>BEAUMARIS</td>\n",
       "      <td>Ward 3</td>\n",
       "      <td>635000</td>\n",
       "      <td>53.619978</td>\n",
       "      <td>-113.506990</td>\n",
       "    </tr>\n",
       "    <tr>\n",
       "      <th>4</th>\n",
       "      <td>1114701</td>\n",
       "      <td>NaN</td>\n",
       "      <td>15003.0</td>\n",
       "      <td>76 AVENUE NW</td>\n",
       "      <td>Y</td>\n",
       "      <td>4430.0</td>\n",
       "      <td>RIO TERRACE</td>\n",
       "      <td>Ward 5</td>\n",
       "      <td>407500</td>\n",
       "      <td>53.508644</td>\n",
       "      <td>-113.579897</td>\n",
       "    </tr>\n",
       "  </tbody>\n",
       "</table>\n",
       "</div>"
      ],
      "text/plain": [
       "   Account Number Suite  House Number            Street Name Garage  \\\n",
       "0         1066158   NaN       14904.0          167 AVENUE NW      N   \n",
       "1        10508233   NaN       16340.0  MARK MESSIER TRAIL NW      N   \n",
       "2         1194398   NaN       15617.0           83 STREET NW      N   \n",
       "3         1034214   NaN       10661.0          161 AVENUE NW      Y   \n",
       "4         1114701   NaN       15003.0           76 AVENUE NW      Y   \n",
       "\n",
       "   Neighbourhood ID Neighbourhood    Ward  Assessed Value   Latitude  \\\n",
       "0               NaN           NaN     NaN           86000  53.630497   \n",
       "1               NaN           NaN     NaN           45000  53.617335   \n",
       "2            2050.0    BELLE RIVE  Ward 3          285000  53.617007   \n",
       "3            3040.0     BEAUMARIS  Ward 3          635000  53.619978   \n",
       "4            4430.0   RIO TERRACE  Ward 5          407500  53.508644   \n",
       "\n",
       "    Longitude  \n",
       "0 -113.580474  \n",
       "1 -113.605690  \n",
       "2 -113.467976  \n",
       "3 -113.506990  \n",
       "4 -113.579897  "
      ]
     },
     "execution_count": 5,
     "metadata": {},
     "output_type": "execute_result"
    }
   ],
   "source": [
    "#Examine the data a little bit to see what we have. \n",
    "df_init.head()\n"
   ]
  },
  {
   "cell_type": "code",
   "execution_count": 6,
   "metadata": {},
   "outputs": [
    {
     "data": {
      "text/html": [
       "<div>\n",
       "<style scoped>\n",
       "    .dataframe tbody tr th:only-of-type {\n",
       "        vertical-align: middle;\n",
       "    }\n",
       "\n",
       "    .dataframe tbody tr th {\n",
       "        vertical-align: top;\n",
       "    }\n",
       "\n",
       "    .dataframe thead th {\n",
       "        text-align: right;\n",
       "    }\n",
       "</style>\n",
       "<table border=\"1\" class=\"dataframe\">\n",
       "  <thead>\n",
       "    <tr style=\"text-align: right;\">\n",
       "      <th></th>\n",
       "      <th>count</th>\n",
       "      <th>mean</th>\n",
       "      <th>std</th>\n",
       "      <th>min</th>\n",
       "      <th>25%</th>\n",
       "      <th>50%</th>\n",
       "      <th>75%</th>\n",
       "      <th>max</th>\n",
       "    </tr>\n",
       "  </thead>\n",
       "  <tbody>\n",
       "    <tr>\n",
       "      <th>Account Number</th>\n",
       "      <td>384217.0</td>\n",
       "      <td>7.813424e+06</td>\n",
       "      <td>3.232763e+06</td>\n",
       "      <td>1.001163e+06</td>\n",
       "      <td>4.584405e+06</td>\n",
       "      <td>9.966988e+06</td>\n",
       "      <td>1.017294e+07</td>\n",
       "      <td>1.101388e+07</td>\n",
       "    </tr>\n",
       "    <tr>\n",
       "      <th>House Number</th>\n",
       "      <td>342008.0</td>\n",
       "      <td>7.663119e+03</td>\n",
       "      <td>5.439437e+03</td>\n",
       "      <td>1.000000e+00</td>\n",
       "      <td>2.504000e+03</td>\n",
       "      <td>7.916000e+03</td>\n",
       "      <td>1.142500e+04</td>\n",
       "      <td>5.117500e+04</td>\n",
       "    </tr>\n",
       "    <tr>\n",
       "      <th>Neighbourhood ID</th>\n",
       "      <td>384213.0</td>\n",
       "      <td>4.270034e+03</td>\n",
       "      <td>1.748173e+03</td>\n",
       "      <td>1.010000e+03</td>\n",
       "      <td>2.660000e+03</td>\n",
       "      <td>4.540000e+03</td>\n",
       "      <td>5.576000e+03</td>\n",
       "      <td>8.888000e+03</td>\n",
       "    </tr>\n",
       "    <tr>\n",
       "      <th>Assessed Value</th>\n",
       "      <td>384217.0</td>\n",
       "      <td>3.084198e+05</td>\n",
       "      <td>2.837778e+05</td>\n",
       "      <td>0.000000e+00</td>\n",
       "      <td>1.700000e+05</td>\n",
       "      <td>3.055000e+05</td>\n",
       "      <td>3.975000e+05</td>\n",
       "      <td>4.391150e+07</td>\n",
       "    </tr>\n",
       "    <tr>\n",
       "      <th>Latitude</th>\n",
       "      <td>384217.0</td>\n",
       "      <td>5.351842e+01</td>\n",
       "      <td>6.840256e-02</td>\n",
       "      <td>5.333859e+01</td>\n",
       "      <td>5.345862e+01</td>\n",
       "      <td>5.351981e+01</td>\n",
       "      <td>5.357419e+01</td>\n",
       "      <td>5.371515e+01</td>\n",
       "    </tr>\n",
       "    <tr>\n",
       "      <th>Longitude</th>\n",
       "      <td>384217.0</td>\n",
       "      <td>-1.135125e+02</td>\n",
       "      <td>8.282889e-02</td>\n",
       "      <td>-1.137129e+02</td>\n",
       "      <td>-1.135691e+02</td>\n",
       "      <td>-1.135105e+02</td>\n",
       "      <td>-1.134477e+02</td>\n",
       "      <td>-1.132784e+02</td>\n",
       "    </tr>\n",
       "  </tbody>\n",
       "</table>\n",
       "</div>"
      ],
      "text/plain": [
       "                     count          mean           std           min  \\\n",
       "Account Number    384217.0  7.813424e+06  3.232763e+06  1.001163e+06   \n",
       "House Number      342008.0  7.663119e+03  5.439437e+03  1.000000e+00   \n",
       "Neighbourhood ID  384213.0  4.270034e+03  1.748173e+03  1.010000e+03   \n",
       "Assessed Value    384217.0  3.084198e+05  2.837778e+05  0.000000e+00   \n",
       "Latitude          384217.0  5.351842e+01  6.840256e-02  5.333859e+01   \n",
       "Longitude         384217.0 -1.135125e+02  8.282889e-02 -1.137129e+02   \n",
       "\n",
       "                           25%           50%           75%           max  \n",
       "Account Number    4.584405e+06  9.966988e+06  1.017294e+07  1.101388e+07  \n",
       "House Number      2.504000e+03  7.916000e+03  1.142500e+04  5.117500e+04  \n",
       "Neighbourhood ID  2.660000e+03  4.540000e+03  5.576000e+03  8.888000e+03  \n",
       "Assessed Value    1.700000e+05  3.055000e+05  3.975000e+05  4.391150e+07  \n",
       "Latitude          5.345862e+01  5.351981e+01  5.357419e+01  5.371515e+01  \n",
       "Longitude        -1.135691e+02 -1.135105e+02 -1.134477e+02 -1.132784e+02  "
      ]
     },
     "execution_count": 6,
     "metadata": {},
     "output_type": "execute_result"
    }
   ],
   "source": [
    "# I like the .T view better\n",
    "df_init.describe().T"
   ]
  },
  {
   "cell_type": "markdown",
   "metadata": {},
   "source": [
    "#### Fliter Outliers\n",
    "\n",
    "We are looking for houses. There's a bunch of data here for houses that are both insanely cheap - near 0, or insanely expensive. We aren't big money investors, so I think the properties over $1mill are not relevant to our examination. \n",
    "\n",
    "We don't want that stuff because, for our purposes, it isn't usefull, so we'll remove it - leaving us with only homes that cost a \"normal\" amount. "
   ]
  },
  {
   "cell_type": "code",
   "execution_count": 7,
   "metadata": {},
   "outputs": [
    {
     "data": {
      "text/html": [
       "<div>\n",
       "<style scoped>\n",
       "    .dataframe tbody tr th:only-of-type {\n",
       "        vertical-align: middle;\n",
       "    }\n",
       "\n",
       "    .dataframe tbody tr th {\n",
       "        vertical-align: top;\n",
       "    }\n",
       "\n",
       "    .dataframe thead th {\n",
       "        text-align: right;\n",
       "    }\n",
       "</style>\n",
       "<table border=\"1\" class=\"dataframe\">\n",
       "  <thead>\n",
       "    <tr style=\"text-align: right;\">\n",
       "      <th></th>\n",
       "      <th>Account Number</th>\n",
       "      <th>House Number</th>\n",
       "      <th>Neighbourhood ID</th>\n",
       "      <th>Assessed Value</th>\n",
       "      <th>Latitude</th>\n",
       "      <th>Longitude</th>\n",
       "    </tr>\n",
       "  </thead>\n",
       "  <tbody>\n",
       "    <tr>\n",
       "      <th>count</th>\n",
       "      <td>3.339850e+05</td>\n",
       "      <td>333750.000000</td>\n",
       "      <td>333982.000000</td>\n",
       "      <td>333985.000000</td>\n",
       "      <td>333985.000000</td>\n",
       "      <td>333985.000000</td>\n",
       "    </tr>\n",
       "    <tr>\n",
       "      <th>mean</th>\n",
       "      <td>7.606939e+06</td>\n",
       "      <td>7709.258511</td>\n",
       "      <td>4309.295447</td>\n",
       "      <td>332817.712382</td>\n",
       "      <td>53.519205</td>\n",
       "      <td>-113.510951</td>\n",
       "    </tr>\n",
       "    <tr>\n",
       "      <th>std</th>\n",
       "      <td>3.273373e+06</td>\n",
       "      <td>5432.207688</td>\n",
       "      <td>1722.380669</td>\n",
       "      <td>150520.220473</td>\n",
       "      <td>0.069117</td>\n",
       "      <td>0.083632</td>\n",
       "    </tr>\n",
       "    <tr>\n",
       "      <th>min</th>\n",
       "      <td>1.001346e+06</td>\n",
       "      <td>1.000000</td>\n",
       "      <td>1010.000000</td>\n",
       "      <td>50500.000000</td>\n",
       "      <td>53.338595</td>\n",
       "      <td>-113.712930</td>\n",
       "    </tr>\n",
       "    <tr>\n",
       "      <th>25%</th>\n",
       "      <td>4.232054e+06</td>\n",
       "      <td>2538.000000</td>\n",
       "      <td>2700.000000</td>\n",
       "      <td>227000.000000</td>\n",
       "      <td>53.459043</td>\n",
       "      <td>-113.569350</td>\n",
       "    </tr>\n",
       "    <tr>\n",
       "      <th>50%</th>\n",
       "      <td>9.479718e+06</td>\n",
       "      <td>8004.000000</td>\n",
       "      <td>4520.000000</td>\n",
       "      <td>323500.000000</td>\n",
       "      <td>53.519458</td>\n",
       "      <td>-113.508079</td>\n",
       "    </tr>\n",
       "    <tr>\n",
       "      <th>75%</th>\n",
       "      <td>1.013107e+07</td>\n",
       "      <td>11439.000000</td>\n",
       "      <td>5590.000000</td>\n",
       "      <td>408500.000000</td>\n",
       "      <td>53.577400</td>\n",
       "      <td>-113.444329</td>\n",
       "    </tr>\n",
       "    <tr>\n",
       "      <th>max</th>\n",
       "      <td>1.101388e+07</td>\n",
       "      <td>51175.000000</td>\n",
       "      <td>8888.000000</td>\n",
       "      <td>999500.000000</td>\n",
       "      <td>53.715150</td>\n",
       "      <td>-113.278441</td>\n",
       "    </tr>\n",
       "  </tbody>\n",
       "</table>\n",
       "</div>"
      ],
      "text/plain": [
       "       Account Number   House Number  Neighbourhood ID  Assessed Value  \\\n",
       "count    3.339850e+05  333750.000000     333982.000000   333985.000000   \n",
       "mean     7.606939e+06    7709.258511       4309.295447   332817.712382   \n",
       "std      3.273373e+06    5432.207688       1722.380669   150520.220473   \n",
       "min      1.001346e+06       1.000000       1010.000000    50500.000000   \n",
       "25%      4.232054e+06    2538.000000       2700.000000   227000.000000   \n",
       "50%      9.479718e+06    8004.000000       4520.000000   323500.000000   \n",
       "75%      1.013107e+07   11439.000000       5590.000000   408500.000000   \n",
       "max      1.101388e+07   51175.000000       8888.000000   999500.000000   \n",
       "\n",
       "            Latitude      Longitude  \n",
       "count  333985.000000  333985.000000  \n",
       "mean       53.519205    -113.510951  \n",
       "std         0.069117       0.083632  \n",
       "min        53.338595    -113.712930  \n",
       "25%        53.459043    -113.569350  \n",
       "50%        53.519458    -113.508079  \n",
       "75%        53.577400    -113.444329  \n",
       "max        53.715150    -113.278441  "
      ]
     },
     "execution_count": 7,
     "metadata": {},
     "output_type": "execute_result"
    }
   ],
   "source": [
    "#Filter out houses that are out of the range that we care about.\n",
    "#I used under $50k or over $1mill - this decision is largely arbitrary, based on what we are actually (pretending) to use this data for.\n",
    "df = df_init[df_init[\"Assessed Value\"] < 1000000]\n",
    "df = df[df[\"Assessed Value\"] > 50000] \n",
    "df.describe()"
   ]
  },
  {
   "cell_type": "markdown",
   "metadata": {},
   "source": [
    "About 50,000 properties removed. Seems reasonable. We can look at the distribution and see what is there...\n",
    "\n",
    "You could use our original graphing techniques (thinkplot), the bigGraph function above, the seaborn plotting, or a combination of all. \n",
    "<br><br><br>\n",
    "#### Visualize Distributions"
   ]
  },
  {
   "cell_type": "code",
   "execution_count": 8,
   "metadata": {},
   "outputs": [
    {
     "name": "stderr",
     "output_type": "stream",
     "text": [
      "/var/folders/p1/m8wtcgx57417hx9d_r110ctw0000gn/T/ipykernel_206/4079768273.py:2: UserWarning: \n",
      "\n",
      "`distplot` is a deprecated function and will be removed in seaborn v0.14.0.\n",
      "\n",
      "Please adapt your code to use either `displot` (a figure-level function with\n",
      "similar flexibility) or `histplot` (an axes-level function for histograms).\n",
      "\n",
      "For a guide to updating your code to use the new functions, please see\n",
      "https://gist.github.com/mwaskom/de44147ed2974457ad6372750bbe5751\n",
      "\n",
      "  sns.distplot(df[\"Assessed Value\"], kde_kws={\"label\":\"Value\"}, hist_kws={\"label\":\"Value\"})\n"
     ]
    },
    {
     "data": {
      "image/png": "[encoded data removed]",
      "text/plain": [
       "<Figure size 2000x500 with 1 Axes>"
      ]
     },
     "metadata": {},
     "output_type": "display_data"
    }
   ],
   "source": [
    "#Create some plots to examine the distribution of the data. \n",
    "sns.distplot(df[\"Assessed Value\"], kde_kws={\"label\":\"Value\"}, hist_kws={\"label\":\"Value\"})\n",
    "plt.show()"
   ]
  },
  {
   "cell_type": "markdown",
   "metadata": {},
   "source": [
    "We have taken a look at the statistics and the distribution of the data. Can we draw any conclusions from what we've seen here? "
   ]
  },
  {
   "cell_type": "markdown",
   "metadata": {},
   "source": [
    "### Part 2: Split Data\n",
    "\n",
    "Split the data, to look for tendencies by groups. We have several values we can use, I will start with the most simple - garage. "
   ]
  },
  {
   "cell_type": "code",
   "execution_count": 9,
   "metadata": {},
   "outputs": [],
   "source": [
    "#Split the data into subsets. I used garage/not for my subsets. \n",
    "df_gar = df[df[\"Garage\"] == \"Y\"]\n",
    "df_no = df[df[\"Garage\"] == \"N\"]"
   ]
  },
  {
   "cell_type": "code",
   "execution_count": 10,
   "metadata": {},
   "outputs": [
    {
     "name": "stderr",
     "output_type": "stream",
     "text": [
      "/var/folders/p1/m8wtcgx57417hx9d_r110ctw0000gn/T/ipykernel_206/427024544.py:2: UserWarning: \n",
      "\n",
      "`distplot` is a deprecated function and will be removed in seaborn v0.14.0.\n",
      "\n",
      "Please adapt your code to use either `displot` (a figure-level function with\n",
      "similar flexibility) or `histplot` (an axes-level function for histograms).\n",
      "\n",
      "For a guide to updating your code to use the new functions, please see\n",
      "https://gist.github.com/mwaskom/de44147ed2974457ad6372750bbe5751\n",
      "\n",
      "  sns.distplot(df_gar[\"Assessed Value\"], kde_kws={\"label\":\"Garage PDF\"}, hist_kws={\"label\":\"Garage\"})\n",
      "/var/folders/p1/m8wtcgx57417hx9d_r110ctw0000gn/T/ipykernel_206/427024544.py:3: UserWarning: \n",
      "\n",
      "`distplot` is a deprecated function and will be removed in seaborn v0.14.0.\n",
      "\n",
      "Please adapt your code to use either `displot` (a figure-level function with\n",
      "similar flexibility) or `histplot` (an axes-level function for histograms).\n",
      "\n",
      "For a guide to updating your code to use the new functions, please see\n",
      "https://gist.github.com/mwaskom/de44147ed2974457ad6372750bbe5751\n",
      "\n",
      "  sns.distplot(df_no[\"Assessed Value\"], kde_kws={\"label\":\"No Garage PDF\", \"color\":\"red\"}, hist_kws={\"label\":\"No Garage\", \"color\":\"red\"})\n"
     ]
    },
    {
     "data": {
      "image/png": "[encoded data removed]",
      "text/plain": [
       "<Figure size 2000x500 with 1 Axes>"
      ]
     },
     "metadata": {},
     "output_type": "display_data"
    }
   ],
   "source": [
    "#Plot the subsets to look at their individual distributions. \n",
    "sns.distplot(df_gar[\"Assessed Value\"], kde_kws={\"label\":\"Garage PDF\"}, hist_kws={\"label\":\"Garage\"})\n",
    "sns.distplot(df_no[\"Assessed Value\"], kde_kws={\"label\":\"No Garage PDF\", \"color\":\"red\"}, hist_kws={\"label\":\"No Garage\", \"color\":\"red\"})\n",
    "plt.show()"
   ]
  },
  {
   "cell_type": "markdown",
   "metadata": {},
   "source": [
    "We can see that both of our slices of data, once separated, are much closer to a normal distribution. Analyzing these two separately is probably going to be easier than the double bump original distribution. \n",
    "I will caclulate a bunch of statistics for each group - including skew, so I can get a measure of how \"stretched out\" the distribution is. \n",
    "\n",
    "I will also look at each group and figure out what share of the homes are less than $200k, $350k, and $500k, for my own info - if I want to invest in properties that are \"lowish\" in value, how many are there?"
   ]
  },
  {
   "cell_type": "markdown",
   "metadata": {},
   "source": [
    "### Part 3: Singular Statistics and CDF"
   ]
  },
  {
   "cell_type": "code",
   "execution_count": 11,
   "metadata": {},
   "outputs": [
    {
     "name": "stdout",
     "output_type": "stream",
     "text": [
      "Garage - Mean: 392847.61504702194 Median: 366500.0 STD: 129514.19777661306 Skew: 1.4131815384478883\n",
      "Non-Garage - Mean: 197646.6897088891 Median: 173500.0 STD: 97552.29499596237 Skew: 2.104894051798442\n"
     ]
    }
   ],
   "source": [
    "#Example of printing out a bunch of statistics on one line\n",
    "\n",
    "print(\"Garage - Mean:\", df_gar[\"Assessed Value\"].mean(), \"Median:\", df_gar[\"Assessed Value\"].median(), \"STD:\", df_gar[\"Assessed Value\"].std(), \"Skew:\", thinkstats2.Skewness(df_gar[\"Assessed Value\"]))\n",
    "print(\"Non-Garage - Mean:\", df_no[\"Assessed Value\"].mean(), \"Median:\", df_no[\"Assessed Value\"].median(), \"STD:\", df_no[\"Assessed Value\"].std(), \"Skew:\", thinkstats2.Skewness(df_no[\"Assessed Value\"]))"
   ]
  },
  {
   "cell_type": "markdown",
   "metadata": {},
   "source": [
    "#### CDFs\n",
    "\n",
    "We can use the CDF functions to figure out some statistics that we saw in the visualization of our data - what share of the data falls under a certain cut-off. "
   ]
  },
  {
   "cell_type": "code",
   "execution_count": 12,
   "metadata": {},
   "outputs": [
    {
     "name": "stderr",
     "output_type": "stream",
     "text": [
      "/Users/akeem/Nextcloud/GitHubReps/2024_summer/Instructor/Basic_Stats_in_Python_Full_Repo/thinkstats2.py:162: FutureWarning: iteritems is deprecated and will be removed in a future version. Use .items instead.\n",
      "  self.d.update(obj.value_counts().iteritems())\n"
     ]
    },
    {
     "data": {
      "text/plain": [
       "(0.3210592931554863, 0.6341446791938468, 0.7689708889105248)"
      ]
     },
     "execution_count": 12,
     "metadata": {},
     "output_type": "execute_result"
    }
   ],
   "source": [
    "#Use CDF to figure out how many are under each value cutoff. \n",
    "cdfn = thinkstats2.Cdf(df_no[\"Assessed Value\"])\n",
    "cdfn.Prob(150000), cdfn.Prob(200000), cdfn.Prob(250000)"
   ]
  },
  {
   "cell_type": "markdown",
   "metadata": {},
   "source": [
    "#### Initial Conclusions\n",
    "\n",
    "What can we make of this? A few things, we aren't entirely sure if they will be important right now.\n",
    "\n",
    "- Non garage houses are about $200k cheaper on average.\n",
    "\n",
    "- Non garage houses are more tightly packed (smaller std), more \"peaky\" (kurtosis), and trail off to the right more (skew). This should kind of make sense logically, there's lots of smaller and cheaper nonm-garage homes, then there are a handful of luxury properties that scatter around the higher values. We can hypothesize that many/most non-garage houses are condos, but we need to check it. Houses over a certain, relatively low, value tend to always have garages so there's less weirdness to the distribution. \n",
    "\n",
    "- There is a comparatively massive cache of non-garage homes that are under $200k, and almost all are under $350k"
   ]
  },
  {
   "cell_type": "markdown",
   "metadata": {},
   "source": [
    "#### Condo vs House - Proxy Data\n",
    "\n",
    "Our dataset doesn't have a direct measure of if a piece of property is a condo or a house. Based on our expert knowledge, this factor probably helps in predicting value. What do we do????\n",
    "\n",
    "We don't have a condo/house variable in the data, but we can use some other pieces of data as a proxy. This won't be 100% accurate, but it may be usefull enough to help inform our decision making. "
   ]
  },
  {
   "cell_type": "code",
   "execution_count": 13,
   "metadata": {},
   "outputs": [
    {
     "name": "stdout",
     "output_type": "stream",
     "text": [
      "Garage: 0.93769322235434\n",
      "Non: 0.3686398597994353\n"
     ]
    }
   ],
   "source": [
    "#Use suite values to assess house/condo split. My assumption is that if a home has a Suite number, it is a condo; if it doesn't, it is a house.\n",
    "#If I calculate that percentage for each group, it could help indicate if my guess is true:\n",
    "\n",
    "#Example of calculating how many of each set have no suite number. \n",
    "print(\"Garage:\", df_gar[\"Suite\"].isnull().sum()/len(df_gar[\"Suite\"]))\n",
    "print(\"Non:\", df_no[\"Suite\"].isnull().sum()/len(df_no[\"Suite\"]))"
   ]
  },
  {
   "cell_type": "code",
   "execution_count": 14,
   "metadata": {},
   "outputs": [],
   "source": [
    "#Graph the suite/nonsuite groups against eachother. "
   ]
  },
  {
   "cell_type": "markdown",
   "metadata": {},
   "source": [
    "I think my hypothesis is supported - non garage houses mostly do have a suite number, garage ones mainly don't. This isn't a 100% definitive result, but it is pretty solid. \n",
    "\n",
    "What can we take from this? Condos are cheaper, houses are more expensive. Garage is an OK-ish proxy for the house/condo split, not at all perfect - I also suspect it is probably a stronger relationship as prices rise, I doubt many expensive houses don't have garages. \n",
    "\n",
    "As well, perhaps as the city grows and as it becomes more dense and urban, perhaps the value of condos will rise and become closer to homes. We see a pattern of central condos becomming more expensive in most larger cities, a hypothesis that a similar thing will happen here is pretty reasonable. \n",
    "\n",
    "\n",
    "NOTE: At this point, we could also/alternatively split the data into suite/non-suite segments, or a 4 way split with both suite and garage. I will continue with garage/non for now. In real life, there's a pretty high probability that we'd come back and also split the data by suite. "
   ]
  },
  {
   "cell_type": "markdown",
   "metadata": {},
   "source": [
    "### Part 4: Investigate location. \n",
    "\n",
    "To investigate this more, we need to take a look at where these properties are located.... We can see what data we have - Ward, neighborhood, and lat/lon all indicate position. I need to go look at a map to see what is useful. Wards are large, and there are 12 of them. Neigborhoods are small, and there are a lot. We can start with wards and do a crude split for initial investigation. \n",
    "\n",
    "Note: We'd probably want to investigate things like square footage at this point in real life. We'll look at that comming up soon - looking at how two variables are related (correlated) to each other. "
   ]
  },
  {
   "cell_type": "code",
   "execution_count": 15,
   "metadata": {},
   "outputs": [
    {
     "data": {
      "text/plain": [
       "Ward 6     19028\n",
       "Ward 9     10826\n",
       "Ward 4      9798\n",
       "Ward 1      8652\n",
       "Ward 11     8392\n",
       "Ward 10     8282\n",
       "Ward 12     8058\n",
       "Ward 8      6693\n",
       "Ward 5      6599\n",
       "Ward 2      6364\n",
       "Ward 7      5098\n",
       "Ward 3      4917\n",
       "Name: Ward, dtype: int64"
      ]
     },
     "execution_count": 15,
     "metadata": {},
     "output_type": "execute_result"
    }
   ],
   "source": [
    "#How many properties are in each ward? \n",
    "df_no[\"Ward\"].value_counts()"
   ]
  },
  {
   "cell_type": "markdown",
   "metadata": {},
   "source": [
    "On a map, Ward 6 is downtown, it has the most non garage properties, which makes sense. 9 is Riverbend, there's lots of condos in Terwilligar and area. 4 is the far north east, 1 is the north-west, 11 is near south-east, 10 is Calgary Trail and west, 12 is far south east, and 8 is Strathcona and east to the city limit. \n",
    "\n",
    "First try, we can isolate downtown from the surroundings.\n",
    "\n",
    "Note: I just googled a ward map. The ridings are changing for this current election - this data uses the old ridings, so I made sure I had an old map"
   ]
  },
  {
   "cell_type": "code",
   "execution_count": 16,
   "metadata": {},
   "outputs": [],
   "source": [
    "#Create new dataframe for Ward 6, and everything else from the non-garage set of homes.\n",
    "dt = df_no[df_no[\"Ward\"] == \"Ward 6\"]\n",
    "burb = df_no[df_no[\"Ward\"] != \"Ward 6\"]"
   ]
  },
  {
   "cell_type": "code",
   "execution_count": 17,
   "metadata": {},
   "outputs": [
    {
     "name": "stderr",
     "output_type": "stream",
     "text": [
      "/var/folders/p1/m8wtcgx57417hx9d_r110ctw0000gn/T/ipykernel_206/2543321533.py:2: UserWarning: \n",
      "\n",
      "`distplot` is a deprecated function and will be removed in seaborn v0.14.0.\n",
      "\n",
      "Please adapt your code to use either `displot` (a figure-level function with\n",
      "similar flexibility) or `histplot` (an axes-level function for histograms).\n",
      "\n",
      "For a guide to updating your code to use the new functions, please see\n",
      "https://gist.github.com/mwaskom/de44147ed2974457ad6372750bbe5751\n",
      "\n",
      "  sns.distplot(dt[\"Assessed Value\"], hist_kws={\"label\":\"Downtown\"}, kde_kws={\"label\":\"DT PDF\"},)\n"
     ]
    },
    {
     "data": {
      "image/png": "[encoded data removed]",
      "text/plain": [
       "<Figure size 2000x500 with 1 Axes>"
      ]
     },
     "metadata": {},
     "output_type": "display_data"
    }
   ],
   "source": [
    "#Plot the new groupings. \n",
    "sns.distplot(dt[\"Assessed Value\"], hist_kws={\"label\":\"Downtown\"}, kde_kws={\"label\":\"DT PDF\"},)\n",
    "#sns.distplot(burb[\"Assessed Value\"], hist_kws={\"label\":\"Surrounding\"}, kde_kws={\"label\":\"Burbs PDF\"},)\n",
    "plt.show()"
   ]
  },
  {
   "cell_type": "markdown",
   "metadata": {},
   "source": [
    "Bingo, bango, we may have found what we are looking for! Our downtown condos have a peak that is lower than the surrounding areas (probably largely because they are older). With our above hypothesis, we can draw some conclusions. The distribution is a little bimodal, that might require some more in depth investigation. I suspect that the lower bump are properties on the beltline of central Edmonton, but we need to investigate to be sure. \n",
    "\n",
    "If central areas become more valuable as cities grow and densify, then looking at investing in downtown, non-garage properties may make some sense. They appear to be undervalued here compared to other subsets of property. \n",
    "\n",
    "This also gives us some evidence that the prices of our non-garage condos are not \"capped\". They follow a normalish distribution, so we shouldn't expect that their price hits a ceiling if we renovate or as areas gentrify. "
   ]
  },
  {
   "cell_type": "code",
   "execution_count": 18,
   "metadata": {},
   "outputs": [
    {
     "name": "stderr",
     "output_type": "stream",
     "text": [
      "/Users/akeem/Nextcloud/GitHubReps/2024_summer/Instructor/Basic_Stats_in_Python_Full_Repo/thinkstats2.py:162: FutureWarning: iteritems is deprecated and will be removed in a future version. Use .items instead.\n",
      "  self.d.update(obj.value_counts().iteritems())\n",
      "/Users/akeem/Nextcloud/GitHubReps/2024_summer/Instructor/Basic_Stats_in_Python_Full_Repo/thinkstats2.py:162: FutureWarning: iteritems is deprecated and will be removed in a future version. Use .items instead.\n",
      "  self.d.update(obj.value_counts().iteritems())\n",
      "/Users/akeem/Nextcloud/GitHubReps/2024_summer/Instructor/Basic_Stats_in_Python_Full_Repo/thinkstats2.py:162: FutureWarning: iteritems is deprecated and will be removed in a future version. Use .items instead.\n",
      "  self.d.update(obj.value_counts().iteritems())\n"
     ]
    }
   ],
   "source": [
    "#What percent of homes are 'cheap' in our different groups?\n",
    "#Create CDFs and caclulate the totals below some cutoff - I used $150k for mine. We could do a few. \n",
    "dtcCDF = thinkstats2.Cdf(dt[\"Assessed Value\"])\n",
    "bcCDF = thinkstats2.Cdf(burb[\"Assessed Value\"])\n",
    "allCDF = thinkstats2.Cdf(df[\"Assessed Value\"])"
   ]
  },
  {
   "cell_type": "code",
   "execution_count": 19,
   "metadata": {},
   "outputs": [
    {
     "data": {
      "text/plain": [
       "(0.358629388269918, 0.31251643125164313, 0.10016318098118179)"
      ]
     },
     "execution_count": 19,
     "metadata": {},
     "output_type": "execute_result"
    }
   ],
   "source": [
    "#What percent of homes are 'cheap' in our different groups?\n",
    "dtcCDF.Prob(150000), bcCDF.Prob(150000), allCDF.Prob(150000)"
   ]
  },
  {
   "cell_type": "markdown",
   "metadata": {},
   "source": [
    "### Part 5: Neighborhoods\n",
    "\n",
    "Investigate the location data a little further - examine what neighborhood these homes fall into. "
   ]
  },
  {
   "cell_type": "code",
   "execution_count": 20,
   "metadata": {},
   "outputs": [
    {
     "data": {
      "text/plain": [
       "OLIVER               7369\n",
       "DOWNTOWN             5058\n",
       "QUEEN MARY PARK      1785\n",
       "WESTMOUNT            1379\n",
       "BOYLE STREET         1237\n",
       "CENTRAL MCDOUGALL     801\n",
       "RIVERDALE             394\n",
       "GLENORA               352\n",
       "MCCAULEY              286\n",
       "GROVENOR              156\n",
       "ROSSDALE              139\n",
       "MCQUEEN                45\n",
       "NORTH GLENORA          27\n",
       "Name: Neighbourhood, dtype: int64"
      ]
     },
     "execution_count": 20,
     "metadata": {},
     "output_type": "execute_result"
    }
   ],
   "source": [
    "#How many homes are in each hood?\n",
    "dt[\"Neighbourhood\"].value_counts()"
   ]
  },
  {
   "cell_type": "code",
   "execution_count": 21,
   "metadata": {},
   "outputs": [
    {
     "name": "stderr",
     "output_type": "stream",
     "text": [
      "/var/folders/p1/m8wtcgx57417hx9d_r110ctw0000gn/T/ipykernel_206/1239891274.py:2: FutureWarning: The default value of numeric_only in DataFrameGroupBy.mean is deprecated. In a future version, numeric_only will default to False. Either specify numeric_only or select only columns which should be valid for the function.\n",
      "  dt.groupby(\"Neighbourhood\").mean().sort_values(\"Assessed Value\")\n"
     ]
    },
    {
     "data": {
      "text/html": [
       "<div>\n",
       "<style scoped>\n",
       "    .dataframe tbody tr th:only-of-type {\n",
       "        vertical-align: middle;\n",
       "    }\n",
       "\n",
       "    .dataframe tbody tr th {\n",
       "        vertical-align: top;\n",
       "    }\n",
       "\n",
       "    .dataframe thead th {\n",
       "        text-align: right;\n",
       "    }\n",
       "</style>\n",
       "<table border=\"1\" class=\"dataframe\">\n",
       "  <thead>\n",
       "    <tr style=\"text-align: right;\">\n",
       "      <th></th>\n",
       "      <th>Account Number</th>\n",
       "      <th>House Number</th>\n",
       "      <th>Neighbourhood ID</th>\n",
       "      <th>Assessed Value</th>\n",
       "      <th>Latitude</th>\n",
       "      <th>Longitude</th>\n",
       "    </tr>\n",
       "    <tr>\n",
       "      <th>Neighbourhood</th>\n",
       "      <th></th>\n",
       "      <th></th>\n",
       "      <th></th>\n",
       "      <th></th>\n",
       "      <th></th>\n",
       "      <th></th>\n",
       "    </tr>\n",
       "  </thead>\n",
       "  <tbody>\n",
       "    <tr>\n",
       "      <th>CENTRAL MCDOUGALL</th>\n",
       "      <td>7.499017e+06</td>\n",
       "      <td>10669.605053</td>\n",
       "      <td>1030.0</td>\n",
       "      <td>119441.323346</td>\n",
       "      <td>53.552918</td>\n",
       "      <td>-113.501849</td>\n",
       "    </tr>\n",
       "    <tr>\n",
       "      <th>BOYLE STREET</th>\n",
       "      <td>8.002838e+06</td>\n",
       "      <td>9520.632983</td>\n",
       "      <td>1020.0</td>\n",
       "      <td>132987.469685</td>\n",
       "      <td>53.550640</td>\n",
       "      <td>-113.476803</td>\n",
       "    </tr>\n",
       "    <tr>\n",
       "      <th>MCQUEEN</th>\n",
       "      <td>7.960693e+06</td>\n",
       "      <td>11584.355556</td>\n",
       "      <td>3300.0</td>\n",
       "      <td>141611.111111</td>\n",
       "      <td>53.557475</td>\n",
       "      <td>-113.576634</td>\n",
       "    </tr>\n",
       "    <tr>\n",
       "      <th>QUEEN MARY PARK</th>\n",
       "      <td>7.593352e+06</td>\n",
       "      <td>10851.211204</td>\n",
       "      <td>1180.0</td>\n",
       "      <td>161319.327731</td>\n",
       "      <td>53.550726</td>\n",
       "      <td>-113.520516</td>\n",
       "    </tr>\n",
       "    <tr>\n",
       "      <th>GLENORA</th>\n",
       "      <td>4.303697e+06</td>\n",
       "      <td>13542.107955</td>\n",
       "      <td>3200.0</td>\n",
       "      <td>195035.511364</td>\n",
       "      <td>53.544147</td>\n",
       "      <td>-113.561376</td>\n",
       "    </tr>\n",
       "    <tr>\n",
       "      <th>WESTMOUNT</th>\n",
       "      <td>8.663235e+06</td>\n",
       "      <td>10800.078229</td>\n",
       "      <td>3440.0</td>\n",
       "      <td>206397.751994</td>\n",
       "      <td>53.550981</td>\n",
       "      <td>-113.535642</td>\n",
       "    </tr>\n",
       "    <tr>\n",
       "      <th>OLIVER</th>\n",
       "      <td>5.490062e+06</td>\n",
       "      <td>10433.576083</td>\n",
       "      <td>1150.0</td>\n",
       "      <td>217471.977202</td>\n",
       "      <td>53.540943</td>\n",
       "      <td>-113.520753</td>\n",
       "    </tr>\n",
       "    <tr>\n",
       "      <th>MCCAULEY</th>\n",
       "      <td>5.270428e+06</td>\n",
       "      <td>10178.985612</td>\n",
       "      <td>1140.0</td>\n",
       "      <td>217816.433566</td>\n",
       "      <td>53.555625</td>\n",
       "      <td>-113.485285</td>\n",
       "    </tr>\n",
       "    <tr>\n",
       "      <th>DOWNTOWN</th>\n",
       "      <td>8.360574e+06</td>\n",
       "      <td>10109.853895</td>\n",
       "      <td>1090.0</td>\n",
       "      <td>257635.429023</td>\n",
       "      <td>53.540528</td>\n",
       "      <td>-113.501037</td>\n",
       "    </tr>\n",
       "    <tr>\n",
       "      <th>GROVENOR</th>\n",
       "      <td>5.719519e+06</td>\n",
       "      <td>11295.871795</td>\n",
       "      <td>3210.0</td>\n",
       "      <td>280817.307692</td>\n",
       "      <td>53.544369</td>\n",
       "      <td>-113.571719</td>\n",
       "    </tr>\n",
       "    <tr>\n",
       "      <th>ROSSDALE</th>\n",
       "      <td>6.987038e+06</td>\n",
       "      <td>9709.604317</td>\n",
       "      <td>1220.0</td>\n",
       "      <td>284687.050360</td>\n",
       "      <td>53.534638</td>\n",
       "      <td>-113.496893</td>\n",
       "    </tr>\n",
       "    <tr>\n",
       "      <th>RIVERDALE</th>\n",
       "      <td>8.611281e+06</td>\n",
       "      <td>9495.246193</td>\n",
       "      <td>1210.0</td>\n",
       "      <td>319402.284264</td>\n",
       "      <td>53.542885</td>\n",
       "      <td>-113.472790</td>\n",
       "    </tr>\n",
       "    <tr>\n",
       "      <th>NORTH GLENORA</th>\n",
       "      <td>5.056906e+06</td>\n",
       "      <td>11676.925926</td>\n",
       "      <td>3310.0</td>\n",
       "      <td>364240.740741</td>\n",
       "      <td>53.555271</td>\n",
       "      <td>-113.557520</td>\n",
       "    </tr>\n",
       "  </tbody>\n",
       "</table>\n",
       "</div>"
      ],
      "text/plain": [
       "                   Account Number  House Number  Neighbourhood ID  \\\n",
       "Neighbourhood                                                       \n",
       "CENTRAL MCDOUGALL    7.499017e+06  10669.605053            1030.0   \n",
       "BOYLE STREET         8.002838e+06   9520.632983            1020.0   \n",
       "MCQUEEN              7.960693e+06  11584.355556            3300.0   \n",
       "QUEEN MARY PARK      7.593352e+06  10851.211204            1180.0   \n",
       "GLENORA              4.303697e+06  13542.107955            3200.0   \n",
       "WESTMOUNT            8.663235e+06  10800.078229            3440.0   \n",
       "OLIVER               5.490062e+06  10433.576083            1150.0   \n",
       "MCCAULEY             5.270428e+06  10178.985612            1140.0   \n",
       "DOWNTOWN             8.360574e+06  10109.853895            1090.0   \n",
       "GROVENOR             5.719519e+06  11295.871795            3210.0   \n",
       "ROSSDALE             6.987038e+06   9709.604317            1220.0   \n",
       "RIVERDALE            8.611281e+06   9495.246193            1210.0   \n",
       "NORTH GLENORA        5.056906e+06  11676.925926            3310.0   \n",
       "\n",
       "                   Assessed Value   Latitude   Longitude  \n",
       "Neighbourhood                                             \n",
       "CENTRAL MCDOUGALL   119441.323346  53.552918 -113.501849  \n",
       "BOYLE STREET        132987.469685  53.550640 -113.476803  \n",
       "MCQUEEN             141611.111111  53.557475 -113.576634  \n",
       "QUEEN MARY PARK     161319.327731  53.550726 -113.520516  \n",
       "GLENORA             195035.511364  53.544147 -113.561376  \n",
       "WESTMOUNT           206397.751994  53.550981 -113.535642  \n",
       "OLIVER              217471.977202  53.540943 -113.520753  \n",
       "MCCAULEY            217816.433566  53.555625 -113.485285  \n",
       "DOWNTOWN            257635.429023  53.540528 -113.501037  \n",
       "GROVENOR            280817.307692  53.544369 -113.571719  \n",
       "ROSSDALE            284687.050360  53.534638 -113.496893  \n",
       "RIVERDALE           319402.284264  53.542885 -113.472790  \n",
       "NORTH GLENORA       364240.740741  53.555271 -113.557520  "
      ]
     },
     "execution_count": 21,
     "metadata": {},
     "output_type": "execute_result"
    }
   ],
   "source": [
    "#What is the average value of each set of hood's homes?\n",
    "dt.groupby(\"Neighbourhood\").mean().sort_values(\"Assessed Value\")"
   ]
  },
  {
   "cell_type": "code",
   "execution_count": 22,
   "metadata": {},
   "outputs": [
    {
     "data": {
      "text/html": [
       "<div>\n",
       "<style scoped>\n",
       "    .dataframe tbody tr th:only-of-type {\n",
       "        vertical-align: middle;\n",
       "    }\n",
       "\n",
       "    .dataframe tbody tr th {\n",
       "        vertical-align: top;\n",
       "    }\n",
       "\n",
       "    .dataframe thead th {\n",
       "        text-align: right;\n",
       "    }\n",
       "</style>\n",
       "<table border=\"1\" class=\"dataframe\">\n",
       "  <thead>\n",
       "    <tr style=\"text-align: right;\">\n",
       "      <th></th>\n",
       "      <th>Account Number</th>\n",
       "      <th>Suite</th>\n",
       "      <th>House Number</th>\n",
       "      <th>Street Name</th>\n",
       "      <th>Garage</th>\n",
       "      <th>Neighbourhood ID</th>\n",
       "      <th>Ward</th>\n",
       "      <th>Assessed Value</th>\n",
       "      <th>Latitude</th>\n",
       "      <th>Longitude</th>\n",
       "    </tr>\n",
       "    <tr>\n",
       "      <th>Neighbourhood</th>\n",
       "      <th></th>\n",
       "      <th></th>\n",
       "      <th></th>\n",
       "      <th></th>\n",
       "      <th></th>\n",
       "      <th></th>\n",
       "      <th></th>\n",
       "      <th></th>\n",
       "      <th></th>\n",
       "      <th></th>\n",
       "    </tr>\n",
       "  </thead>\n",
       "  <tbody>\n",
       "    <tr>\n",
       "      <th>NORTH GLENORA</th>\n",
       "      <td>27</td>\n",
       "      <td>0</td>\n",
       "      <td>27</td>\n",
       "      <td>27</td>\n",
       "      <td>27</td>\n",
       "      <td>27</td>\n",
       "      <td>27</td>\n",
       "      <td>27</td>\n",
       "      <td>27</td>\n",
       "      <td>27</td>\n",
       "    </tr>\n",
       "    <tr>\n",
       "      <th>MCQUEEN</th>\n",
       "      <td>45</td>\n",
       "      <td>33</td>\n",
       "      <td>45</td>\n",
       "      <td>45</td>\n",
       "      <td>45</td>\n",
       "      <td>45</td>\n",
       "      <td>45</td>\n",
       "      <td>45</td>\n",
       "      <td>45</td>\n",
       "      <td>45</td>\n",
       "    </tr>\n",
       "    <tr>\n",
       "      <th>ROSSDALE</th>\n",
       "      <td>139</td>\n",
       "      <td>116</td>\n",
       "      <td>139</td>\n",
       "      <td>139</td>\n",
       "      <td>139</td>\n",
       "      <td>139</td>\n",
       "      <td>139</td>\n",
       "      <td>139</td>\n",
       "      <td>139</td>\n",
       "      <td>139</td>\n",
       "    </tr>\n",
       "    <tr>\n",
       "      <th>GROVENOR</th>\n",
       "      <td>156</td>\n",
       "      <td>36</td>\n",
       "      <td>156</td>\n",
       "      <td>156</td>\n",
       "      <td>156</td>\n",
       "      <td>156</td>\n",
       "      <td>156</td>\n",
       "      <td>156</td>\n",
       "      <td>156</td>\n",
       "      <td>156</td>\n",
       "    </tr>\n",
       "    <tr>\n",
       "      <th>MCCAULEY</th>\n",
       "      <td>286</td>\n",
       "      <td>20</td>\n",
       "      <td>278</td>\n",
       "      <td>278</td>\n",
       "      <td>286</td>\n",
       "      <td>286</td>\n",
       "      <td>286</td>\n",
       "      <td>286</td>\n",
       "      <td>286</td>\n",
       "      <td>286</td>\n",
       "    </tr>\n",
       "    <tr>\n",
       "      <th>GLENORA</th>\n",
       "      <td>352</td>\n",
       "      <td>297</td>\n",
       "      <td>352</td>\n",
       "      <td>352</td>\n",
       "      <td>352</td>\n",
       "      <td>352</td>\n",
       "      <td>352</td>\n",
       "      <td>352</td>\n",
       "      <td>352</td>\n",
       "      <td>352</td>\n",
       "    </tr>\n",
       "    <tr>\n",
       "      <th>RIVERDALE</th>\n",
       "      <td>394</td>\n",
       "      <td>284</td>\n",
       "      <td>394</td>\n",
       "      <td>394</td>\n",
       "      <td>394</td>\n",
       "      <td>394</td>\n",
       "      <td>394</td>\n",
       "      <td>394</td>\n",
       "      <td>394</td>\n",
       "      <td>394</td>\n",
       "    </tr>\n",
       "    <tr>\n",
       "      <th>CENTRAL MCDOUGALL</th>\n",
       "      <td>801</td>\n",
       "      <td>719</td>\n",
       "      <td>752</td>\n",
       "      <td>752</td>\n",
       "      <td>801</td>\n",
       "      <td>801</td>\n",
       "      <td>801</td>\n",
       "      <td>801</td>\n",
       "      <td>801</td>\n",
       "      <td>801</td>\n",
       "    </tr>\n",
       "    <tr>\n",
       "      <th>BOYLE STREET</th>\n",
       "      <td>1237</td>\n",
       "      <td>1209</td>\n",
       "      <td>1237</td>\n",
       "      <td>1237</td>\n",
       "      <td>1237</td>\n",
       "      <td>1237</td>\n",
       "      <td>1237</td>\n",
       "      <td>1237</td>\n",
       "      <td>1237</td>\n",
       "      <td>1237</td>\n",
       "    </tr>\n",
       "    <tr>\n",
       "      <th>WESTMOUNT</th>\n",
       "      <td>1379</td>\n",
       "      <td>1190</td>\n",
       "      <td>1355</td>\n",
       "      <td>1355</td>\n",
       "      <td>1379</td>\n",
       "      <td>1379</td>\n",
       "      <td>1379</td>\n",
       "      <td>1379</td>\n",
       "      <td>1379</td>\n",
       "      <td>1379</td>\n",
       "    </tr>\n",
       "    <tr>\n",
       "      <th>QUEEN MARY PARK</th>\n",
       "      <td>1785</td>\n",
       "      <td>1756</td>\n",
       "      <td>1785</td>\n",
       "      <td>1785</td>\n",
       "      <td>1785</td>\n",
       "      <td>1785</td>\n",
       "      <td>1785</td>\n",
       "      <td>1785</td>\n",
       "      <td>1785</td>\n",
       "      <td>1785</td>\n",
       "    </tr>\n",
       "    <tr>\n",
       "      <th>DOWNTOWN</th>\n",
       "      <td>5058</td>\n",
       "      <td>5048</td>\n",
       "      <td>5058</td>\n",
       "      <td>5058</td>\n",
       "      <td>5058</td>\n",
       "      <td>5058</td>\n",
       "      <td>5058</td>\n",
       "      <td>5058</td>\n",
       "      <td>5058</td>\n",
       "      <td>5058</td>\n",
       "    </tr>\n",
       "    <tr>\n",
       "      <th>OLIVER</th>\n",
       "      <td>7369</td>\n",
       "      <td>7261</td>\n",
       "      <td>7367</td>\n",
       "      <td>7367</td>\n",
       "      <td>7369</td>\n",
       "      <td>7369</td>\n",
       "      <td>7369</td>\n",
       "      <td>7369</td>\n",
       "      <td>7369</td>\n",
       "      <td>7369</td>\n",
       "    </tr>\n",
       "  </tbody>\n",
       "</table>\n",
       "</div>"
      ],
      "text/plain": [
       "                   Account Number  Suite  House Number  Street Name  Garage  \\\n",
       "Neighbourhood                                                                 \n",
       "NORTH GLENORA                  27      0            27           27      27   \n",
       "MCQUEEN                        45     33            45           45      45   \n",
       "ROSSDALE                      139    116           139          139     139   \n",
       "GROVENOR                      156     36           156          156     156   \n",
       "MCCAULEY                      286     20           278          278     286   \n",
       "GLENORA                       352    297           352          352     352   \n",
       "RIVERDALE                     394    284           394          394     394   \n",
       "CENTRAL MCDOUGALL             801    719           752          752     801   \n",
       "BOYLE STREET                 1237   1209          1237         1237    1237   \n",
       "WESTMOUNT                    1379   1190          1355         1355    1379   \n",
       "QUEEN MARY PARK              1785   1756          1785         1785    1785   \n",
       "DOWNTOWN                     5058   5048          5058         5058    5058   \n",
       "OLIVER                       7369   7261          7367         7367    7369   \n",
       "\n",
       "                   Neighbourhood ID  Ward  Assessed Value  Latitude  Longitude  \n",
       "Neighbourhood                                                                   \n",
       "NORTH GLENORA                    27    27              27        27         27  \n",
       "MCQUEEN                          45    45              45        45         45  \n",
       "ROSSDALE                        139   139             139       139        139  \n",
       "GROVENOR                        156   156             156       156        156  \n",
       "MCCAULEY                        286   286             286       286        286  \n",
       "GLENORA                         352   352             352       352        352  \n",
       "RIVERDALE                       394   394             394       394        394  \n",
       "CENTRAL MCDOUGALL               801   801             801       801        801  \n",
       "BOYLE STREET                   1237  1237            1237      1237       1237  \n",
       "WESTMOUNT                      1379  1379            1379      1379       1379  \n",
       "QUEEN MARY PARK                1785  1785            1785      1785       1785  \n",
       "DOWNTOWN                       5058  5058            5058      5058       5058  \n",
       "OLIVER                         7369  7369            7369      7369       7369  "
      ]
     },
     "execution_count": 22,
     "metadata": {},
     "output_type": "execute_result"
    }
   ],
   "source": [
    "#Combo (sort of) view of the above tables. \n",
    "dt.groupby(\"Neighbourhood\").count().sort_values(\"Assessed Value\")"
   ]
  },
  {
   "cell_type": "markdown",
   "metadata": {},
   "source": [
    "### Part 6: Deep Dive on one Segment\n",
    "\n",
    "Look at one potential area - Glenora. There are a non trivial number of homes, and it appears that there are several homes that are \"underpriced\" compared to what we may typically expect. \n",
    "\n",
    "If there are cheap non-garage homes in a very nice and generally expensive hood, we might think that if we were to improve these homes and/or wait for the city to grow and densify, that the value of these homes may \"catch up\" to other homes in the area. Many people want to live in Glenora, but the large houses are appreciating away from the affordability of more and more people. This isn't a fact, it is a pretty reasonable hypothesis. If you have ever heard the saying \"buy the worst house on the block\", it follows the same logic - location matters over anythig else. "
   ]
  },
  {
   "cell_type": "code",
   "execution_count": 23,
   "metadata": {},
   "outputs": [],
   "source": [
    "#Extract the glenora homes into their own dataframe\n",
    "dtGlen = dt[dt[\"Neighbourhood\"]==\"GLENORA\"]"
   ]
  },
  {
   "cell_type": "code",
   "execution_count": 24,
   "metadata": {},
   "outputs": [
    {
     "data": {
      "text/plain": [
       "642533.7142857143"
      ]
     },
     "execution_count": 24,
     "metadata": {},
     "output_type": "execute_result"
    }
   ],
   "source": [
    "#Create dataframe with all the garaged homes in Glenora, so we can compare. \n",
    "glen = df[(df[\"Neighbourhood\"]==\"GLENORA\") & (df[\"Garage\"] == \"Y\")]\n",
    "glen[\"Assessed Value\"].mean()"
   ]
  },
  {
   "cell_type": "code",
   "execution_count": 25,
   "metadata": {},
   "outputs": [
    {
     "name": "stderr",
     "output_type": "stream",
     "text": [
      "/var/folders/p1/m8wtcgx57417hx9d_r110ctw0000gn/T/ipykernel_206/1535046466.py:2: UserWarning: \n",
      "\n",
      "`distplot` is a deprecated function and will be removed in seaborn v0.14.0.\n",
      "\n",
      "Please adapt your code to use either `displot` (a figure-level function with\n",
      "similar flexibility) or `histplot` (an axes-level function for histograms).\n",
      "\n",
      "For a guide to updating your code to use the new functions, please see\n",
      "https://gist.github.com/mwaskom/de44147ed2974457ad6372750bbe5751\n",
      "\n",
      "  sns.distplot(dtGlen[\"Assessed Value\"], hist_kws={\"label\":\"Condos\"}, kde_kws={\"label\":\"Condo PDF\"},)\n",
      "/var/folders/p1/m8wtcgx57417hx9d_r110ctw0000gn/T/ipykernel_206/1535046466.py:3: UserWarning: \n",
      "\n",
      "`distplot` is a deprecated function and will be removed in seaborn v0.14.0.\n",
      "\n",
      "Please adapt your code to use either `displot` (a figure-level function with\n",
      "similar flexibility) or `histplot` (an axes-level function for histograms).\n",
      "\n",
      "For a guide to updating your code to use the new functions, please see\n",
      "https://gist.github.com/mwaskom/de44147ed2974457ad6372750bbe5751\n",
      "\n",
      "  sns.distplot(glen[\"Assessed Value\"], hist_kws={\"label\":\"Glenora Garage\"}, kde_kws={\"label\":\"Glenora Garage PDF\"},)\n"
     ]
    },
    {
     "data": {
      "image/png": "[encoded data removed]",
      "text/plain": [
       "<Figure size 2000x500 with 1 Axes>"
      ]
     },
     "metadata": {},
     "output_type": "display_data"
    }
   ],
   "source": [
    "#Plot Glenora's homes - garage vs none.\n",
    "sns.distplot(dtGlen[\"Assessed Value\"], hist_kws={\"label\":\"Condos\"}, kde_kws={\"label\":\"Condo PDF\"},)\n",
    "sns.distplot(glen[\"Assessed Value\"], hist_kws={\"label\":\"Glenora Garage\"}, kde_kws={\"label\":\"Glenora Garage PDF\"},)\n",
    "plt.show()"
   ]
  },
  {
   "cell_type": "code",
   "execution_count": 26,
   "metadata": {},
   "outputs": [
    {
     "name": "stdout",
     "output_type": "stream",
     "text": [
      "Glenora - Mean: 642533.7142857143 Median: 616000.0 STD: 160094.8240731049 Skew: 1.4131815384478883\n",
      "Non-Gar. Glen - Mean: 195035.51136363635 Median: 141500.0 STD: 144389.9467156847 Skew: 2.9031246230029835\n"
     ]
    }
   ],
   "source": [
    "#Take the satistics:\n",
    "print(\"Glenora - Mean:\", glen[\"Assessed Value\"].mean(), \"Median:\", glen[\"Assessed Value\"].median(), \"STD:\", glen[\"Assessed Value\"].std(), \"Skew:\", thinkstats2.Skewness(df_gar[\"Assessed Value\"]))\n",
    "print(\"Non-Gar. Glen - Mean:\", dtGlen[\"Assessed Value\"].mean(), \"Median:\", dtGlen[\"Assessed Value\"].median(), \"STD:\", dtGlen[\"Assessed Value\"].std(), \"Skew:\", thinkstats2.Skewness(dtGlen[\"Assessed Value\"]))"
   ]
  },
  {
   "cell_type": "markdown",
   "metadata": {},
   "source": [
    "### Final (as of now) Conclusions\n",
    "\n",
    "So, where are we? We have a hood where there are a non-trivial number of garge free homes, where the value of those homes is drastically lower than the overall average price in that hood. We also have a handfull of examples of expensive condos in that hood. We know this area is centrally located.\n",
    "\n",
    "From external knowledge, glenora is a desireable and wealthy hood overall. \n",
    "\n",
    "If we are going to look into actual investments, the limited dataset we have here supports us researching Glenora, specifically homes without garages in Glenora as a potential target. We can't be sure that this makes sense without going out anf getting more domain knowledge though - our data didn't have everything - square footage, building age, etc... that we'd need to put cash on the line. "
   ]
  }
 ],
 "metadata": {
  "kernelspec": {
   "display_name": "ml_2",
   "language": "python",
   "name": "python3"
  },
  "language_info": {
   "codemirror_mode": {
    "name": "ipython",
    "version": 3
   },
   "file_extension": ".py",
   "mimetype": "text/x-python",
   "name": "python",
   "nbconvert_exporter": "python",
   "pygments_lexer": "ipython3",
   "version": "3.10.9"
  },
  "orig_nbformat": 4
 },
 "nbformat": 4,
 "nbformat_minor": 2
}
